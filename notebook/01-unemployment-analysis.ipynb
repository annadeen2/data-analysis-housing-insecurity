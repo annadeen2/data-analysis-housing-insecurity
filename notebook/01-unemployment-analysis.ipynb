{
 "cells": [
  {
   "cell_type": "markdown",
   "id": "59064fa8",
   "metadata": {},
   "source": [
    "## Analysis of census-tract-level unemployment data\n",
    "This notebook performs some of the following analyses:\n",
    "- paring down of the data to relevant months (December of 2020)\n",
    "- merging and paring down the analysis just to New York City\n",
    "- assigning a zip code to each census tract"
   ]
  },
  {
   "cell_type": "code",
   "execution_count": 1,
   "id": "fb734492",
   "metadata": {},
   "outputs": [],
   "source": [
    "# Importing the necessary libraries\n",
    "import pandas as pd\n",
    "import numpy as np"
   ]
  },
  {
   "cell_type": "code",
   "execution_count": 2,
   "id": "b8a496d1",
   "metadata": {},
   "outputs": [],
   "source": [
    "# Importing data from The DEEP-MAPS model of the labor force\n",
    "unemployment_data = pd.read_csv(\n",
    "    '../data/deepmaps_tractdata_december2020_prelim.csv',\n",
    "    dtype = {\n",
    "        \"fips\":str\n",
    "    }\n",
    ")"
   ]
  },
  {
   "cell_type": "code",
   "execution_count": 3,
   "id": "13a77c8a",
   "metadata": {},
   "outputs": [
    {
     "data": {
      "text/html": [
       "<div>\n",
       "<style scoped>\n",
       "    .dataframe tbody tr th:only-of-type {\n",
       "        vertical-align: middle;\n",
       "    }\n",
       "\n",
       "    .dataframe tbody tr th {\n",
       "        vertical-align: top;\n",
       "    }\n",
       "\n",
       "    .dataframe thead th {\n",
       "        text-align: right;\n",
       "    }\n",
       "</style>\n",
       "<table border=\"1\" class=\"dataframe\">\n",
       "  <thead>\n",
       "    <tr style=\"text-align: right;\">\n",
       "      <th></th>\n",
       "      <th>cat</th>\n",
       "      <th>grp</th>\n",
       "      <th>fips</th>\n",
       "      <th>cnip_2020_01</th>\n",
       "      <th>cnip_2020_02</th>\n",
       "      <th>cnip_2020_03</th>\n",
       "      <th>cnip_2020_04</th>\n",
       "      <th>cnip_2020_05</th>\n",
       "      <th>cnip_2020_06</th>\n",
       "      <th>cnip_2020_07</th>\n",
       "      <th>...</th>\n",
       "      <th>employed_2020_03</th>\n",
       "      <th>employed_2020_04</th>\n",
       "      <th>employed_2020_05</th>\n",
       "      <th>employed_2020_06</th>\n",
       "      <th>employed_2020_07</th>\n",
       "      <th>employed_2020_08</th>\n",
       "      <th>employed_2020_09</th>\n",
       "      <th>employed_2020_10</th>\n",
       "      <th>employed_2020_11</th>\n",
       "      <th>employed_2020_12</th>\n",
       "    </tr>\n",
       "  </thead>\n",
       "  <tbody>\n",
       "    <tr>\n",
       "      <th>0</th>\n",
       "      <td>total</td>\n",
       "      <td>total</td>\n",
       "      <td>48167720900</td>\n",
       "      <td>4043.3</td>\n",
       "      <td>4045.3</td>\n",
       "      <td>4047.3</td>\n",
       "      <td>4049.4</td>\n",
       "      <td>4051.8</td>\n",
       "      <td>4054.3</td>\n",
       "      <td>4056.9</td>\n",
       "      <td>...</td>\n",
       "      <td>2244.5</td>\n",
       "      <td>1841.7</td>\n",
       "      <td>1957.6</td>\n",
       "      <td>2147.4</td>\n",
       "      <td>2171.2</td>\n",
       "      <td>2265.8</td>\n",
       "      <td>2208.7</td>\n",
       "      <td>2235.6</td>\n",
       "      <td>2206.3</td>\n",
       "      <td>2233.4</td>\n",
       "    </tr>\n",
       "    <tr>\n",
       "      <th>1</th>\n",
       "      <td>total</td>\n",
       "      <td>total</td>\n",
       "      <td>24017851500</td>\n",
       "      <td>7502.7</td>\n",
       "      <td>7506.4</td>\n",
       "      <td>7510.2</td>\n",
       "      <td>7514.1</td>\n",
       "      <td>7518.5</td>\n",
       "      <td>7523.1</td>\n",
       "      <td>7527.9</td>\n",
       "      <td>...</td>\n",
       "      <td>5651.3</td>\n",
       "      <td>5137.2</td>\n",
       "      <td>5107.3</td>\n",
       "      <td>5321.6</td>\n",
       "      <td>5365.8</td>\n",
       "      <td>5379.6</td>\n",
       "      <td>5165.0</td>\n",
       "      <td>5273.2</td>\n",
       "      <td>5276.1</td>\n",
       "      <td>5320.2</td>\n",
       "    </tr>\n",
       "    <tr>\n",
       "      <th>2</th>\n",
       "      <td>total</td>\n",
       "      <td>total</td>\n",
       "      <td>48493000300</td>\n",
       "      <td>4987.7</td>\n",
       "      <td>4990.1</td>\n",
       "      <td>4992.6</td>\n",
       "      <td>4995.3</td>\n",
       "      <td>4998.2</td>\n",
       "      <td>5001.2</td>\n",
       "      <td>5004.4</td>\n",
       "      <td>...</td>\n",
       "      <td>2700.7</td>\n",
       "      <td>2220.1</td>\n",
       "      <td>2317.9</td>\n",
       "      <td>2558.4</td>\n",
       "      <td>2586.1</td>\n",
       "      <td>2715.9</td>\n",
       "      <td>2627.3</td>\n",
       "      <td>2666.2</td>\n",
       "      <td>2632.8</td>\n",
       "      <td>2578.4</td>\n",
       "    </tr>\n",
       "    <tr>\n",
       "      <th>3</th>\n",
       "      <td>total</td>\n",
       "      <td>total</td>\n",
       "      <td>42101026500</td>\n",
       "      <td>4249.8</td>\n",
       "      <td>4251.8</td>\n",
       "      <td>4254.0</td>\n",
       "      <td>4256.3</td>\n",
       "      <td>4258.7</td>\n",
       "      <td>4261.3</td>\n",
       "      <td>4264.0</td>\n",
       "      <td>...</td>\n",
       "      <td>1935.8</td>\n",
       "      <td>1719.0</td>\n",
       "      <td>1696.6</td>\n",
       "      <td>1639.5</td>\n",
       "      <td>1676.8</td>\n",
       "      <td>1695.0</td>\n",
       "      <td>1820.5</td>\n",
       "      <td>1801.0</td>\n",
       "      <td>1804.7</td>\n",
       "      <td>1890.0</td>\n",
       "    </tr>\n",
       "    <tr>\n",
       "      <th>4</th>\n",
       "      <td>total</td>\n",
       "      <td>total</td>\n",
       "      <td>42101002500</td>\n",
       "      <td>3320.9</td>\n",
       "      <td>3322.6</td>\n",
       "      <td>3324.2</td>\n",
       "      <td>3326.0</td>\n",
       "      <td>3327.9</td>\n",
       "      <td>3329.9</td>\n",
       "      <td>3332.1</td>\n",
       "      <td>...</td>\n",
       "      <td>2274.3</td>\n",
       "      <td>2102.6</td>\n",
       "      <td>2166.0</td>\n",
       "      <td>2097.0</td>\n",
       "      <td>2101.2</td>\n",
       "      <td>2127.6</td>\n",
       "      <td>2194.8</td>\n",
       "      <td>2196.1</td>\n",
       "      <td>2188.4</td>\n",
       "      <td>2266.9</td>\n",
       "    </tr>\n",
       "  </tbody>\n",
       "</table>\n",
       "<p>5 rows × 39 columns</p>\n",
       "</div>"
      ],
      "text/plain": [
       "     cat    grp         fips  cnip_2020_01  cnip_2020_02  cnip_2020_03  \\\n",
       "0  total  total  48167720900        4043.3        4045.3        4047.3   \n",
       "1  total  total  24017851500        7502.7        7506.4        7510.2   \n",
       "2  total  total  48493000300        4987.7        4990.1        4992.6   \n",
       "3  total  total  42101026500        4249.8        4251.8        4254.0   \n",
       "4  total  total  42101002500        3320.9        3322.6        3324.2   \n",
       "\n",
       "   cnip_2020_04  cnip_2020_05  cnip_2020_06  cnip_2020_07  ...  \\\n",
       "0        4049.4        4051.8        4054.3        4056.9  ...   \n",
       "1        7514.1        7518.5        7523.1        7527.9  ...   \n",
       "2        4995.3        4998.2        5001.2        5004.4  ...   \n",
       "3        4256.3        4258.7        4261.3        4264.0  ...   \n",
       "4        3326.0        3327.9        3329.9        3332.1  ...   \n",
       "\n",
       "   employed_2020_03  employed_2020_04  employed_2020_05  employed_2020_06  \\\n",
       "0            2244.5            1841.7            1957.6            2147.4   \n",
       "1            5651.3            5137.2            5107.3            5321.6   \n",
       "2            2700.7            2220.1            2317.9            2558.4   \n",
       "3            1935.8            1719.0            1696.6            1639.5   \n",
       "4            2274.3            2102.6            2166.0            2097.0   \n",
       "\n",
       "   employed_2020_07  employed_2020_08  employed_2020_09  employed_2020_10  \\\n",
       "0            2171.2            2265.8            2208.7            2235.6   \n",
       "1            5365.8            5379.6            5165.0            5273.2   \n",
       "2            2586.1            2715.9            2627.3            2666.2   \n",
       "3            1676.8            1695.0            1820.5            1801.0   \n",
       "4            2101.2            2127.6            2194.8            2196.1   \n",
       "\n",
       "   employed_2020_11  employed_2020_12  \n",
       "0            2206.3            2233.4  \n",
       "1            5276.1            5320.2  \n",
       "2            2632.8            2578.4  \n",
       "3            1804.7            1890.0  \n",
       "4            2188.4            2266.9  \n",
       "\n",
       "[5 rows x 39 columns]"
      ]
     },
     "execution_count": 3,
     "metadata": {},
     "output_type": "execute_result"
    }
   ],
   "source": [
    "# Showing the first five rows of the data set\n",
    "unemployment_data.head()"
   ]
  },
  {
   "cell_type": "code",
   "execution_count": 4,
   "id": "ddc57da0",
   "metadata": {},
   "outputs": [
    {
     "data": {
      "text/plain": [
       "cat                    object\n",
       "grp                    object\n",
       "fips                   object\n",
       "cnip_2020_01          float64\n",
       "cnip_2020_02          float64\n",
       "cnip_2020_03          float64\n",
       "cnip_2020_04          float64\n",
       "cnip_2020_05          float64\n",
       "cnip_2020_06          float64\n",
       "cnip_2020_07          float64\n",
       "cnip_2020_08          float64\n",
       "cnip_2020_09          float64\n",
       "cnip_2020_10          float64\n",
       "cnip_2020_11          float64\n",
       "cnip_2020_12          float64\n",
       "laborforce_2020_01    float64\n",
       "laborforce_2020_02    float64\n",
       "laborforce_2020_03    float64\n",
       "laborforce_2020_04    float64\n",
       "laborforce_2020_05    float64\n",
       "laborforce_2020_06    float64\n",
       "laborforce_2020_07    float64\n",
       "laborforce_2020_08    float64\n",
       "laborforce_2020_09    float64\n",
       "laborforce_2020_10    float64\n",
       "laborforce_2020_11    float64\n",
       "laborforce_2020_12    float64\n",
       "employed_2020_01      float64\n",
       "employed_2020_02      float64\n",
       "employed_2020_03      float64\n",
       "employed_2020_04      float64\n",
       "employed_2020_05      float64\n",
       "employed_2020_06      float64\n",
       "employed_2020_07      float64\n",
       "employed_2020_08      float64\n",
       "employed_2020_09      float64\n",
       "employed_2020_10      float64\n",
       "employed_2020_11      float64\n",
       "employed_2020_12      float64\n",
       "dtype: object"
      ]
     },
     "execution_count": 4,
     "metadata": {},
     "output_type": "execute_result"
    }
   ],
   "source": [
    "# Determining the type of data for each column\n",
    "unemployment_data.dtypes"
   ]
  },
  {
   "cell_type": "code",
   "execution_count": 5,
   "id": "d1e1cb6b",
   "metadata": {},
   "outputs": [
    {
     "data": {
      "text/plain": [
       "cat                    object\n",
       "grp                    object\n",
       "fips                   object\n",
       "cnip_2020_01          float64\n",
       "cnip_2020_02          float64\n",
       "cnip_2020_03          float64\n",
       "cnip_2020_04          float64\n",
       "cnip_2020_05          float64\n",
       "cnip_2020_06          float64\n",
       "cnip_2020_07          float64\n",
       "cnip_2020_08          float64\n",
       "cnip_2020_09          float64\n",
       "cnip_2020_10          float64\n",
       "cnip_2020_11          float64\n",
       "cnip_2020_12          float64\n",
       "laborforce_2020_01    float64\n",
       "laborforce_2020_02    float64\n",
       "laborforce_2020_03    float64\n",
       "laborforce_2020_04    float64\n",
       "laborforce_2020_05    float64\n",
       "laborforce_2020_06    float64\n",
       "laborforce_2020_07    float64\n",
       "laborforce_2020_08    float64\n",
       "laborforce_2020_09    float64\n",
       "laborforce_2020_10    float64\n",
       "laborforce_2020_11    float64\n",
       "laborforce_2020_12    float64\n",
       "employed_2020_01      float64\n",
       "employed_2020_02      float64\n",
       "employed_2020_03      float64\n",
       "employed_2020_04      float64\n",
       "employed_2020_05      float64\n",
       "employed_2020_06      float64\n",
       "employed_2020_07      float64\n",
       "employed_2020_08      float64\n",
       "employed_2020_09      float64\n",
       "employed_2020_10      float64\n",
       "employed_2020_11      float64\n",
       "employed_2020_12      float64\n",
       "dtype: object"
      ]
     },
     "execution_count": 5,
     "metadata": {},
     "output_type": "execute_result"
    }
   ],
   "source": [
    "# Determining the type of data for each column\n",
    "unemployment_data.dtypes"
   ]
  },
  {
   "cell_type": "code",
   "execution_count": 6,
   "id": "0843c7cf",
   "metadata": {},
   "outputs": [],
   "source": [
    "# Importing data that contains the GEOIDs and census tracts for New York City\n",
    "fips = pd.read_csv(\n",
    "    '../data/geoid.csv', \n",
    "    dtype=str\n",
    ")"
   ]
  },
  {
   "cell_type": "code",
   "execution_count": 7,
   "id": "28160a5e",
   "metadata": {},
   "outputs": [
    {
     "data": {
      "text/html": [
       "<div>\n",
       "<style scoped>\n",
       "    .dataframe tbody tr th:only-of-type {\n",
       "        vertical-align: middle;\n",
       "    }\n",
       "\n",
       "    .dataframe tbody tr th {\n",
       "        vertical-align: top;\n",
       "    }\n",
       "\n",
       "    .dataframe thead th {\n",
       "        text-align: right;\n",
       "    }\n",
       "</style>\n",
       "<table border=\"1\" class=\"dataframe\">\n",
       "  <thead>\n",
       "    <tr style=\"text-align: right;\">\n",
       "      <th></th>\n",
       "      <th>fips</th>\n",
       "      <th>name</th>\n",
       "    </tr>\n",
       "  </thead>\n",
       "  <tbody>\n",
       "    <tr>\n",
       "      <th>0</th>\n",
       "      <td>14000US36005000100</td>\n",
       "      <td>Census Tract 1, Bronx, NY</td>\n",
       "    </tr>\n",
       "    <tr>\n",
       "      <th>1</th>\n",
       "      <td>14000US36005000200</td>\n",
       "      <td>Census Tract 2, Bronx, NY</td>\n",
       "    </tr>\n",
       "    <tr>\n",
       "      <th>2</th>\n",
       "      <td>14000US36005000400</td>\n",
       "      <td>Census Tract 4, Bronx, NY</td>\n",
       "    </tr>\n",
       "    <tr>\n",
       "      <th>3</th>\n",
       "      <td>14000US36005001600</td>\n",
       "      <td>Census Tract 16, Bronx, NY</td>\n",
       "    </tr>\n",
       "    <tr>\n",
       "      <th>4</th>\n",
       "      <td>14000US36005001900</td>\n",
       "      <td>Census Tract 19, Bronx, NY</td>\n",
       "    </tr>\n",
       "  </tbody>\n",
       "</table>\n",
       "</div>"
      ],
      "text/plain": [
       "                 fips                        name\n",
       "0  14000US36005000100   Census Tract 1, Bronx, NY\n",
       "1  14000US36005000200   Census Tract 2, Bronx, NY\n",
       "2  14000US36005000400   Census Tract 4, Bronx, NY\n",
       "3  14000US36005001600  Census Tract 16, Bronx, NY\n",
       "4  14000US36005001900  Census Tract 19, Bronx, NY"
      ]
     },
     "execution_count": 7,
     "metadata": {},
     "output_type": "execute_result"
    }
   ],
   "source": [
    "# Showing the first five rows of the data set\n",
    "fips.head()"
   ]
  },
  {
   "cell_type": "code",
   "execution_count": 8,
   "id": "ae7c5397",
   "metadata": {},
   "outputs": [],
   "source": [
    "# Shortening the GEOIDs to FIPs codes\n",
    "fips_filtered = fips['fips'].apply(lambda x: x[7:])"
   ]
  },
  {
   "cell_type": "code",
   "execution_count": 9,
   "id": "7ca28a7a",
   "metadata": {},
   "outputs": [
    {
     "data": {
      "text/plain": [
       "2167"
      ]
     },
     "execution_count": 9,
     "metadata": {},
     "output_type": "execute_result"
    }
   ],
   "source": [
    "# Checking the length of the data set\n",
    "len(fips_filtered)"
   ]
  },
  {
   "cell_type": "code",
   "execution_count": 10,
   "id": "ee8849d8",
   "metadata": {},
   "outputs": [],
   "source": [
    "# Merging the two data sets on an inner join\n",
    "unemployment_filtered_fips = pd.merge(unemployment_data, \n",
    "                      fips_filtered, \n",
    "                      on ='fips', \n",
    "                      how ='inner')"
   ]
  },
  {
   "cell_type": "code",
   "execution_count": 11,
   "id": "30f88952",
   "metadata": {},
   "outputs": [
    {
     "data": {
      "text/plain": [
       "149364"
      ]
     },
     "execution_count": 11,
     "metadata": {},
     "output_type": "execute_result"
    }
   ],
   "source": [
    "# Checking the length of the merger data set\n",
    "len(unemployment_filtered_fips)"
   ]
  },
  {
   "cell_type": "code",
   "execution_count": 12,
   "id": "cd2d9fb7",
   "metadata": {},
   "outputs": [],
   "source": [
    "# Filtering the merged data set by the total\n",
    "unemployment_fips = unemployment_filtered_fips.query('cat == \"total\"')"
   ]
  },
  {
   "cell_type": "code",
   "execution_count": 13,
   "id": "ac4a9e0e",
   "metadata": {},
   "outputs": [
    {
     "data": {
      "text/plain": [
       "2123"
      ]
     },
     "execution_count": 13,
     "metadata": {},
     "output_type": "execute_result"
    }
   ],
   "source": [
    "# Checking the length of the merger data set\n",
    "len(unemployment_fips)"
   ]
  },
  {
   "cell_type": "code",
   "execution_count": 14,
   "id": "25bdf88b",
   "metadata": {},
   "outputs": [],
   "source": [
    "# Creating a list of columns with numbers for December 2020\n",
    "december = ['fips', 'cnip_2020_12', 'laborforce_2020_12', 'employed_2020_12']"
   ]
  },
  {
   "cell_type": "code",
   "execution_count": 15,
   "id": "c9b5193a",
   "metadata": {},
   "outputs": [],
   "source": [
    "# Creating a data set with numbers for December 2020\n",
    "unemployment_dec_2020 = unemployment_fips[december]"
   ]
  },
  {
   "cell_type": "code",
   "execution_count": 16,
   "id": "bf2f2421",
   "metadata": {},
   "outputs": [
    {
     "data": {
      "text/plain": [
       "fips                   object\n",
       "cnip_2020_12          float64\n",
       "laborforce_2020_12    float64\n",
       "employed_2020_12      float64\n",
       "dtype: object"
      ]
     },
     "execution_count": 16,
     "metadata": {},
     "output_type": "execute_result"
    }
   ],
   "source": [
    "# Determining the type of data for each column\n",
    "unemployment_dec_2020.dtypes"
   ]
  },
  {
   "cell_type": "code",
   "execution_count": 17,
   "id": "95dcfdc2",
   "metadata": {},
   "outputs": [
    {
     "data": {
      "text/html": [
       "<div>\n",
       "<style scoped>\n",
       "    .dataframe tbody tr th:only-of-type {\n",
       "        vertical-align: middle;\n",
       "    }\n",
       "\n",
       "    .dataframe tbody tr th {\n",
       "        vertical-align: top;\n",
       "    }\n",
       "\n",
       "    .dataframe thead th {\n",
       "        text-align: right;\n",
       "    }\n",
       "</style>\n",
       "<table border=\"1\" class=\"dataframe\">\n",
       "  <thead>\n",
       "    <tr style=\"text-align: right;\">\n",
       "      <th></th>\n",
       "      <th>fips</th>\n",
       "      <th>cnip_2020_12</th>\n",
       "      <th>laborforce_2020_12</th>\n",
       "      <th>employed_2020_12</th>\n",
       "    </tr>\n",
       "  </thead>\n",
       "  <tbody>\n",
       "    <tr>\n",
       "      <th>0</th>\n",
       "      <td>36047095000</td>\n",
       "      <td>2533.6</td>\n",
       "      <td>1399.5</td>\n",
       "      <td>1195.2</td>\n",
       "    </tr>\n",
       "    <tr>\n",
       "      <th>62</th>\n",
       "      <td>36047018400</td>\n",
       "      <td>2322.0</td>\n",
       "      <td>1174.3</td>\n",
       "      <td>1068.6</td>\n",
       "    </tr>\n",
       "    <tr>\n",
       "      <th>126</th>\n",
       "      <td>36047024800</td>\n",
       "      <td>2111.2</td>\n",
       "      <td>995.5</td>\n",
       "      <td>903.0</td>\n",
       "    </tr>\n",
       "    <tr>\n",
       "      <th>204</th>\n",
       "      <td>36081091601</td>\n",
       "      <td>2905.1</td>\n",
       "      <td>1219.0</td>\n",
       "      <td>1127.2</td>\n",
       "    </tr>\n",
       "    <tr>\n",
       "      <th>269</th>\n",
       "      <td>36081011900</td>\n",
       "      <td>1344.2</td>\n",
       "      <td>976.1</td>\n",
       "      <td>900.1</td>\n",
       "    </tr>\n",
       "  </tbody>\n",
       "</table>\n",
       "</div>"
      ],
      "text/plain": [
       "            fips  cnip_2020_12  laborforce_2020_12  employed_2020_12\n",
       "0    36047095000        2533.6              1399.5            1195.2\n",
       "62   36047018400        2322.0              1174.3            1068.6\n",
       "126  36047024800        2111.2               995.5             903.0\n",
       "204  36081091601        2905.1              1219.0            1127.2\n",
       "269  36081011900        1344.2               976.1             900.1"
      ]
     },
     "execution_count": 17,
     "metadata": {},
     "output_type": "execute_result"
    }
   ],
   "source": [
    "# Showing the first five rows of the data set\n",
    "unemployment_dec_2020.head()"
   ]
  },
  {
   "cell_type": "code",
   "execution_count": 18,
   "id": "de69fba3",
   "metadata": {},
   "outputs": [
    {
     "name": "stderr",
     "output_type": "stream",
     "text": [
      "/var/folders/lw/9fwsvtm56_d6lkb4v5m8nyvm0000gn/T/ipykernel_34003/3263404043.py:2: SettingWithCopyWarning: \n",
      "A value is trying to be set on a copy of a slice from a DataFrame.\n",
      "Try using .loc[row_indexer,col_indexer] = value instead\n",
      "\n",
      "See the caveats in the documentation: https://pandas.pydata.org/pandas-docs/stable/user_guide/indexing.html#returning-a-view-versus-a-copy\n",
      "  unemployment_dec_2020['unemployment_percent_2020_12'] = (1-(unemployment_dec_2020['employed_2020_12']/unemployment_dec_2020['laborforce_2020_12']))*100\n"
     ]
    }
   ],
   "source": [
    "# Creating a new column with the unemployment percentage for each FIPs code \n",
    "unemployment_dec_2020['unemployment_percent_2020_12'] = (1-(unemployment_dec_2020['employed_2020_12']/unemployment_dec_2020['laborforce_2020_12']))*100"
   ]
  },
  {
   "cell_type": "code",
   "execution_count": 19,
   "id": "9935aac9",
   "metadata": {},
   "outputs": [
    {
     "data": {
      "text/html": [
       "<div>\n",
       "<style scoped>\n",
       "    .dataframe tbody tr th:only-of-type {\n",
       "        vertical-align: middle;\n",
       "    }\n",
       "\n",
       "    .dataframe tbody tr th {\n",
       "        vertical-align: top;\n",
       "    }\n",
       "\n",
       "    .dataframe thead th {\n",
       "        text-align: right;\n",
       "    }\n",
       "</style>\n",
       "<table border=\"1\" class=\"dataframe\">\n",
       "  <thead>\n",
       "    <tr style=\"text-align: right;\">\n",
       "      <th></th>\n",
       "      <th>fips</th>\n",
       "      <th>cnip_2020_12</th>\n",
       "      <th>laborforce_2020_12</th>\n",
       "      <th>employed_2020_12</th>\n",
       "      <th>unemployment_percent_2020_12</th>\n",
       "    </tr>\n",
       "  </thead>\n",
       "  <tbody>\n",
       "    <tr>\n",
       "      <th>0</th>\n",
       "      <td>36047095000</td>\n",
       "      <td>2533.6</td>\n",
       "      <td>1399.5</td>\n",
       "      <td>1195.2</td>\n",
       "      <td>14.598071</td>\n",
       "    </tr>\n",
       "    <tr>\n",
       "      <th>62</th>\n",
       "      <td>36047018400</td>\n",
       "      <td>2322.0</td>\n",
       "      <td>1174.3</td>\n",
       "      <td>1068.6</td>\n",
       "      <td>9.001107</td>\n",
       "    </tr>\n",
       "    <tr>\n",
       "      <th>126</th>\n",
       "      <td>36047024800</td>\n",
       "      <td>2111.2</td>\n",
       "      <td>995.5</td>\n",
       "      <td>903.0</td>\n",
       "      <td>9.291813</td>\n",
       "    </tr>\n",
       "    <tr>\n",
       "      <th>204</th>\n",
       "      <td>36081091601</td>\n",
       "      <td>2905.1</td>\n",
       "      <td>1219.0</td>\n",
       "      <td>1127.2</td>\n",
       "      <td>7.530763</td>\n",
       "    </tr>\n",
       "    <tr>\n",
       "      <th>269</th>\n",
       "      <td>36081011900</td>\n",
       "      <td>1344.2</td>\n",
       "      <td>976.1</td>\n",
       "      <td>900.1</td>\n",
       "      <td>7.786087</td>\n",
       "    </tr>\n",
       "  </tbody>\n",
       "</table>\n",
       "</div>"
      ],
      "text/plain": [
       "            fips  cnip_2020_12  laborforce_2020_12  employed_2020_12  \\\n",
       "0    36047095000        2533.6              1399.5            1195.2   \n",
       "62   36047018400        2322.0              1174.3            1068.6   \n",
       "126  36047024800        2111.2               995.5             903.0   \n",
       "204  36081091601        2905.1              1219.0            1127.2   \n",
       "269  36081011900        1344.2               976.1             900.1   \n",
       "\n",
       "     unemployment_percent_2020_12  \n",
       "0                       14.598071  \n",
       "62                       9.001107  \n",
       "126                      9.291813  \n",
       "204                      7.530763  \n",
       "269                      7.786087  "
      ]
     },
     "execution_count": 19,
     "metadata": {},
     "output_type": "execute_result"
    }
   ],
   "source": [
    "# Showing the first five rows of the data set\n",
    "unemployment_dec_2020.head()"
   ]
  },
  {
   "cell_type": "code",
   "execution_count": 20,
   "id": "3d85fcc2",
   "metadata": {},
   "outputs": [
    {
     "name": "stderr",
     "output_type": "stream",
     "text": [
      "/var/folders/lw/9fwsvtm56_d6lkb4v5m8nyvm0000gn/T/ipykernel_34003/2759177067.py:2: SettingWithCopyWarning: \n",
      "A value is trying to be set on a copy of a slice from a DataFrame.\n",
      "Try using .loc[row_indexer,col_indexer] = value instead\n",
      "\n",
      "See the caveats in the documentation: https://pandas.pydata.org/pandas-docs/stable/user_guide/indexing.html#returning-a-view-versus-a-copy\n",
      "  unemployment_dec_2020['unemployment_percent_2020_12'] = np.round(unemployment_dec_2020['unemployment_percent_2020_12'], decimals = 2)\n"
     ]
    }
   ],
   "source": [
    "# Rounding the unemployment percentage to two decimals\n",
    "unemployment_dec_2020['unemployment_percent_2020_12'] = np.round(unemployment_dec_2020['unemployment_percent_2020_12'], decimals = 2)"
   ]
  },
  {
   "cell_type": "code",
   "execution_count": 21,
   "id": "be583da6",
   "metadata": {},
   "outputs": [
    {
     "data": {
      "text/html": [
       "<div>\n",
       "<style scoped>\n",
       "    .dataframe tbody tr th:only-of-type {\n",
       "        vertical-align: middle;\n",
       "    }\n",
       "\n",
       "    .dataframe tbody tr th {\n",
       "        vertical-align: top;\n",
       "    }\n",
       "\n",
       "    .dataframe thead th {\n",
       "        text-align: right;\n",
       "    }\n",
       "</style>\n",
       "<table border=\"1\" class=\"dataframe\">\n",
       "  <thead>\n",
       "    <tr style=\"text-align: right;\">\n",
       "      <th></th>\n",
       "      <th>fips</th>\n",
       "      <th>cnip_2020_12</th>\n",
       "      <th>laborforce_2020_12</th>\n",
       "      <th>employed_2020_12</th>\n",
       "      <th>unemployment_percent_2020_12</th>\n",
       "    </tr>\n",
       "  </thead>\n",
       "  <tbody>\n",
       "    <tr>\n",
       "      <th>0</th>\n",
       "      <td>36047095000</td>\n",
       "      <td>2533.6</td>\n",
       "      <td>1399.5</td>\n",
       "      <td>1195.2</td>\n",
       "      <td>14.60</td>\n",
       "    </tr>\n",
       "    <tr>\n",
       "      <th>62</th>\n",
       "      <td>36047018400</td>\n",
       "      <td>2322.0</td>\n",
       "      <td>1174.3</td>\n",
       "      <td>1068.6</td>\n",
       "      <td>9.00</td>\n",
       "    </tr>\n",
       "    <tr>\n",
       "      <th>126</th>\n",
       "      <td>36047024800</td>\n",
       "      <td>2111.2</td>\n",
       "      <td>995.5</td>\n",
       "      <td>903.0</td>\n",
       "      <td>9.29</td>\n",
       "    </tr>\n",
       "    <tr>\n",
       "      <th>204</th>\n",
       "      <td>36081091601</td>\n",
       "      <td>2905.1</td>\n",
       "      <td>1219.0</td>\n",
       "      <td>1127.2</td>\n",
       "      <td>7.53</td>\n",
       "    </tr>\n",
       "    <tr>\n",
       "      <th>269</th>\n",
       "      <td>36081011900</td>\n",
       "      <td>1344.2</td>\n",
       "      <td>976.1</td>\n",
       "      <td>900.1</td>\n",
       "      <td>7.79</td>\n",
       "    </tr>\n",
       "  </tbody>\n",
       "</table>\n",
       "</div>"
      ],
      "text/plain": [
       "            fips  cnip_2020_12  laborforce_2020_12  employed_2020_12  \\\n",
       "0    36047095000        2533.6              1399.5            1195.2   \n",
       "62   36047018400        2322.0              1174.3            1068.6   \n",
       "126  36047024800        2111.2               995.5             903.0   \n",
       "204  36081091601        2905.1              1219.0            1127.2   \n",
       "269  36081011900        1344.2               976.1             900.1   \n",
       "\n",
       "     unemployment_percent_2020_12  \n",
       "0                           14.60  \n",
       "62                           9.00  \n",
       "126                          9.29  \n",
       "204                          7.53  \n",
       "269                          7.79  "
      ]
     },
     "execution_count": 21,
     "metadata": {},
     "output_type": "execute_result"
    }
   ],
   "source": [
    "# Showing the first five rows of the data set\n",
    "unemployment_dec_2020.head()"
   ]
  },
  {
   "cell_type": "markdown",
   "id": "8010120e",
   "metadata": {},
   "source": [
    "#### Merging the unemployment data with zip codes data\n"
   ]
  },
  {
   "cell_type": "code",
   "execution_count": 22,
   "id": "9a47a98f",
   "metadata": {},
   "outputs": [],
   "source": [
    "# Importing data that contains FIPs codes and ZIP codes\n",
    "zip_tract = pd.read_csv(\n",
    "    '../data/zip-tract.csv', \n",
    "    dtype=str\n",
    ")"
   ]
  },
  {
   "cell_type": "code",
   "execution_count": 23,
   "id": "75fbd50f",
   "metadata": {},
   "outputs": [
    {
     "data": {
      "text/html": [
       "<div>\n",
       "<style scoped>\n",
       "    .dataframe tbody tr th:only-of-type {\n",
       "        vertical-align: middle;\n",
       "    }\n",
       "\n",
       "    .dataframe tbody tr th {\n",
       "        vertical-align: top;\n",
       "    }\n",
       "\n",
       "    .dataframe thead th {\n",
       "        text-align: right;\n",
       "    }\n",
       "</style>\n",
       "<table border=\"1\" class=\"dataframe\">\n",
       "  <thead>\n",
       "    <tr style=\"text-align: right;\">\n",
       "      <th></th>\n",
       "      <th>ZIP</th>\n",
       "      <th>fips</th>\n",
       "    </tr>\n",
       "  </thead>\n",
       "  <tbody>\n",
       "    <tr>\n",
       "      <th>0</th>\n",
       "      <td>00501</td>\n",
       "      <td>36103158607</td>\n",
       "    </tr>\n",
       "    <tr>\n",
       "      <th>1</th>\n",
       "      <td>00601</td>\n",
       "      <td>72001956600</td>\n",
       "    </tr>\n",
       "    <tr>\n",
       "      <th>2</th>\n",
       "      <td>00601</td>\n",
       "      <td>72113071700</td>\n",
       "    </tr>\n",
       "    <tr>\n",
       "      <th>3</th>\n",
       "      <td>00601</td>\n",
       "      <td>72001956700</td>\n",
       "    </tr>\n",
       "    <tr>\n",
       "      <th>4</th>\n",
       "      <td>00601</td>\n",
       "      <td>72001956800</td>\n",
       "    </tr>\n",
       "  </tbody>\n",
       "</table>\n",
       "</div>"
      ],
      "text/plain": [
       "     ZIP         fips\n",
       "0  00501  36103158607\n",
       "1  00601  72001956600\n",
       "2  00601  72113071700\n",
       "3  00601  72001956700\n",
       "4  00601  72001956800"
      ]
     },
     "execution_count": 23,
     "metadata": {},
     "output_type": "execute_result"
    }
   ],
   "source": [
    "# Showing the first five rows of the data set\n",
    "zip_tract.head()"
   ]
  },
  {
   "cell_type": "code",
   "execution_count": 24,
   "id": "e05ddb27",
   "metadata": {},
   "outputs": [],
   "source": [
    "# Merging the two data sets on an inner join\n",
    "unemployment_filtered_zip = pd.merge(\n",
    "                      unemployment_dec_2020, \n",
    "                      zip_tract, \n",
    "                      on ='fips', \n",
    "                      how ='inner')"
   ]
  },
  {
   "cell_type": "code",
   "execution_count": 25,
   "id": "5a952bc6",
   "metadata": {},
   "outputs": [
    {
     "data": {
      "text/plain": [
       "3141"
      ]
     },
     "execution_count": 25,
     "metadata": {},
     "output_type": "execute_result"
    }
   ],
   "source": [
    "# Checking the length of the merged data set\n",
    "len(unemployment_filtered_zip)"
   ]
  },
  {
   "cell_type": "code",
   "execution_count": 26,
   "id": "1fc0ba9d",
   "metadata": {},
   "outputs": [],
   "source": [
    "# Filtering by census population greater than 500\n",
    "unemployment_filtered_zip_s = unemployment_filtered_zip[unemployment_filtered_zip['cnip_2020_12']>500]"
   ]
  },
  {
   "cell_type": "code",
   "execution_count": 27,
   "id": "ab9477a8",
   "metadata": {},
   "outputs": [
    {
     "data": {
      "text/plain": [
       "3074"
      ]
     },
     "execution_count": 27,
     "metadata": {},
     "output_type": "execute_result"
    }
   ],
   "source": [
    "# Checking the length of the filtered data set\n",
    "len(unemployment_filtered_zip_s)"
   ]
  },
  {
   "cell_type": "code",
   "execution_count": 28,
   "id": "57018b72",
   "metadata": {},
   "outputs": [],
   "source": [
    "# Exporting the data set as a CSV\n",
    "unemployment_filtered_zip_s.to_csv('../output/unemployment-zip_dec_2020.csv', index=False)"
   ]
  },
  {
   "cell_type": "code",
   "execution_count": null,
   "id": "1b18f5be",
   "metadata": {},
   "outputs": [],
   "source": []
  }
 ],
 "metadata": {
  "kernelspec": {
   "display_name": "Python 3 (ipykernel)",
   "language": "python",
   "name": "python3"
  },
  "language_info": {
   "codemirror_mode": {
    "name": "ipython",
    "version": 3
   },
   "file_extension": ".py",
   "mimetype": "text/x-python",
   "name": "python",
   "nbconvert_exporter": "python",
   "pygments_lexer": "ipython3",
   "version": "3.9.7"
  }
 },
 "nbformat": 4,
 "nbformat_minor": 5
}
